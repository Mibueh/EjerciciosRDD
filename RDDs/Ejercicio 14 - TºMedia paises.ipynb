{
 "cells": [
  {
   "cell_type": "code",
   "execution_count": 1,
   "metadata": {},
   "outputs": [
    {
     "name": "stdout",
     "output_type": "stream",
     "text": [
      "<pyspark.context.SparkContext object at 0x7ff2e7f04a20>\n"
     ]
    }
   ],
   "source": [
    "print(sc)"
   ]
  },
  {
   "cell_type": "code",
   "execution_count": 3,
   "metadata": {},
   "outputs": [
    {
     "name": "stdout",
     "output_type": "stream",
     "text": [
      "[(20, 2, 'Españita'), (25, -5, 'EE.UU'), (15, 10, 'Francia'), (17, 10, 'Japón'), (5, -20, 'Canada')]\n"
     ]
    }
   ],
   "source": [
    "datos = temperaturas=sc.parallelize([(20,2,'Españita'),(25,-5,'EE.UU'),(15,10,'Francia'),(17,10,'Japón'),(5,-20,'Canada')]).collect()\n",
    "print(datos)"
   ]
  },
  {
   "cell_type": "code",
   "execution_count": 11,
   "metadata": {},
   "outputs": [
    {
     "name": "stdout",
     "output_type": "stream",
     "text": [
      "Españita\n",
      "11.0\n",
      "EE.UU\n",
      "10.0\n",
      "Francia\n",
      "12.5\n",
      "Japón\n",
      "13.5\n",
      "Canada\n",
      "-7.5\n"
     ]
    }
   ],
   "source": [
    "for x in datos:\n",
    "    media = ((x[0]+x[1])/2)\n",
    "    print(x[2])\n",
    "    print(media)"
   ]
  },
  {
   "cell_type": "code",
   "execution_count": null,
   "metadata": {},
   "outputs": [],
   "source": []
  }
 ],
 "metadata": {
  "kernelspec": {
   "display_name": "Python 3",
   "language": "python",
   "name": "python3"
  },
  "language_info": {
   "codemirror_mode": {
    "name": "ipython",
    "version": 3
   },
   "file_extension": ".py",
   "mimetype": "text/x-python",
   "name": "python",
   "nbconvert_exporter": "python",
   "pygments_lexer": "ipython3",
   "version": "3.5.6"
  }
 },
 "nbformat": 4,
 "nbformat_minor": 2
}
