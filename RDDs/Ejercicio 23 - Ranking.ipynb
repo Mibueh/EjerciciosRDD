{
 "cells": [
  {
   "cell_type": "code",
   "execution_count": 2,
   "metadata": {},
   "outputs": [],
   "source": [
    "from pyspark.sql import Row"
   ]
  },
  {
   "cell_type": "code",
   "execution_count": 9,
   "metadata": {},
   "outputs": [],
   "source": [
    "medallistas = sc.textFile('medallistas.txt').map(lambda x: x.split(',')).map(lambda x: Row(nombre=x[0],medallas=x[1],edad=int(x[2]))).collect()"
   ]
  },
  {
   "cell_type": "code",
   "execution_count": 10,
   "metadata": {},
   "outputs": [],
   "source": [
    "medallistas=sqlContext.createDataFrame(medallistas)\n",
    "sqlContext.registerDataFrameAsTable(medallistas,\"medallistas\")\n",
    "medallistas.registerTempTable(\"medallistas\")"
   ]
  },
  {
   "cell_type": "code",
   "execution_count": 23,
   "metadata": {},
   "outputs": [
    {
     "name": "stdout",
     "output_type": "stream",
     "text": [
      "+----------+-------------+--------+\n",
      "|    nombre|totalMedallas|medallas|\n",
      "+----------+-------------+--------+\n",
      "| Romonowik|            1|   Plata|\n",
      "| Julandron|            1|   Plata|\n",
      "|    ACM1PT|            1|     Oro|\n",
      "| Romonowik|            1|     Oro|\n",
      "|    ACM1PT|            1|  Bronce|\n",
      "|Chuminamen|            1|  Bronce|\n",
      "| Pokabroma|            1|  Bronce|\n",
      "|    Edriki|            1|  Bronce|\n",
      "| Julandron|            1|     Oro|\n",
      "|  Pichurra|            1|   Plata|\n",
      "|  Pochinki|            1|  Bronce|\n",
      "|   Josanko|            3|     Oro|\n",
      "|   Jadergo|            1|  Bronce|\n",
      "|   Jadergo|            1|     Oro|\n",
      "+----------+-------------+--------+\n",
      "\n"
     ]
    }
   ],
   "source": [
    "busquedaMedallasGeneral=sqlContext.sql(\"Select nombre,count(medallas) \\\n",
    "as totalMedallas,medallas \\\n",
    "from medallistas group By nombre,medallas\")\n",
    "busquedaMedallasGeneral.show()"
   ]
  },
  {
   "cell_type": "code",
   "execution_count": null,
   "metadata": {},
   "outputs": [],
   "source": []
  }
 ],
 "metadata": {
  "kernelspec": {
   "display_name": "Python 3",
   "language": "python",
   "name": "python3"
  }
 },
 "nbformat": 4,
 "nbformat_minor": 2
}
