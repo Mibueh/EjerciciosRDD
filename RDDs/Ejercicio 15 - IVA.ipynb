{
 "cells": [
  {
   "cell_type": "code",
   "execution_count": 1,
   "metadata": {},
   "outputs": [
    {
     "name": "stdout",
     "output_type": "stream",
     "text": [
      "[(21, 'Españita'), (18, 'Alemania'), (23, 'Japan'), (4, 'Portugal'), (11, 'Italia')]\n"
     ]
    }
   ],
   "source": [
    "datos=sc.parallelize(([(21,'Españita'),(18,'Alemania'),(23,'Japan'),(4,'Portugal'),(11,'Italia')])).collect()\n",
    "print(datos)"
   ]
  },
  {
   "cell_type": "code",
   "execution_count": 6,
   "metadata": {},
   "outputs": [
    {
     "name": "stdout",
     "output_type": "stream",
     "text": [
      "Españita\n",
      "21.42\n",
      "Alemania\n",
      "18.36\n",
      "Japan\n",
      "23.46\n",
      "Portugal\n",
      "4.08\n",
      "Italia\n",
      "11.22\n"
     ]
    }
   ],
   "source": [
    "for x in datos:\n",
    "    iva=(x[0]+(x[0]*0.02))\n",
    "    print(x[1])\n",
    "    print(iva)"
   ]
  },
  {
   "cell_type": "code",
   "execution_count": null,
   "metadata": {},
   "outputs": [],
   "source": []
  }
 ],
 "metadata": {
  "kernelspec": {
   "display_name": "Python 3",
   "language": "python",
   "name": "python3"
  },
  "language_info": {
   "codemirror_mode": {
    "name": "ipython",
    "version": 3
   },
   "file_extension": ".py",
   "mimetype": "text/x-python",
   "name": "python",
   "nbconvert_exporter": "python",
   "pygments_lexer": "ipython3",
   "version": "3.5.6"
  }
 },
 "nbformat": 4,
 "nbformat_minor": 2
}
