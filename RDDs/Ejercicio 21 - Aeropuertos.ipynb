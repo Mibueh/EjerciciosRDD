{
 "cells": [
  {
   "cell_type": "code",
   "execution_count": 1,
   "metadata": {},
   "outputs": [],
   "source": [
    "from pyspark.sql import Row"
   ]
  },
  {
   "cell_type": "code",
   "execution_count": 4,
   "metadata": {},
   "outputs": [],
   "source": [
    "datos = sc.textFile('aeropuertos.txt').map(lambda line: line.split(\",\")).map(lambda x: Row(nombre=x[0],ciudad=x[1],pais=x[2],latitud=int(x[3]),altitud=int(x[4]),longitud=int(x[5]),horario=x[6])).collect()"
   ]
  },
  {
   "cell_type": "code",
   "execution_count": 11,
   "metadata": {},
   "outputs": [],
   "source": [
    "df = sqlContext.createDataFrame(datos)\n",
    "sqlContext.registerDataFrameAsTable(df,'aeropuertos')\n",
    "df.registerTempTable('aeropuertos')"
   ]
  },
  {
   "cell_type": "code",
   "execution_count": 12,
   "metadata": {},
   "outputs": [
    {
     "name": "stdout",
     "output_type": "stream",
     "text": [
      "+------+--------+\n",
      "|ciudad|  nombre|\n",
      "+------+--------+\n",
      "|   ZAZ|zaragoza|\n",
      "|   SDR| Camargo|\n",
      "+------+--------+\n",
      "\n"
     ]
    }
   ],
   "source": [
    "spagnolo=sqlContext.sql(\"Select ciudad,nombre from aeropuertos where pais='Espana'\")\n",
    "spagnolo.show()"
   ]
  },
  {
   "cell_type": "code",
   "execution_count": 13,
   "metadata": {},
   "outputs": [
    {
     "name": "stdout",
     "output_type": "stream",
     "text": [
      "+---------+-------+\n",
      "|   nombre|latitud|\n",
      "+---------+-------+\n",
      "| zaragoza|     74|\n",
      "|    Noain|     60|\n",
      "|Agoncillo|     45|\n",
      "|    Lujua|     60|\n",
      "+---------+-------+\n",
      "\n"
     ]
    }
   ],
   "source": [
    "latitud=sqlContext.sql(\"Select nombre,latitud from aeropuertos where latitud>40\")\n",
    "latitud.show()"
   ]
  },
  {
   "cell_type": "code",
   "execution_count": null,
   "metadata": {},
   "outputs": [],
   "source": []
  }
 ],
 "metadata": {
  "kernelspec": {
   "display_name": "Python 3",
   "language": "python",
   "name": "python3"
  },
  "language_info": {
   "codemirror_mode": {
    "name": "ipython",
    "version": 3
   },
   "file_extension": ".py",
   "mimetype": "text/x-python",
   "name": "python",
   "nbconvert_exporter": "python",
   "pygments_lexer": "ipython3",
   "version": "3.5.6"
  }
 },
 "nbformat": 4,
 "nbformat_minor": 2
}
