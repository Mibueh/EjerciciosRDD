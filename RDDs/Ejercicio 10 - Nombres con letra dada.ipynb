{
 "cells": [
  {
   "cell_type": "code",
   "execution_count": 6,
   "metadata": {},
   "outputs": [],
   "source": [
    "nombres = sc.parallelize([\"manueh\",\"yisus\",\"sherezade\",\"john\",\"avelino\",\"emilio\",\"marcos\",\"fonsi\",\"daniel\"]).collect()"
   ]
  },
  {
   "cell_type": "code",
   "execution_count": 16,
   "metadata": {},
   "outputs": [
    {
     "name": "stdout",
     "output_type": "stream",
     "text": [
      "yisus\n",
      "avelino\n",
      "emilio\n",
      "fonsi\n",
      "daniel\n"
     ]
    }
   ],
   "source": [
    "for x in nombres:\n",
    "    letra=\"i\"\n",
    "    if letra in x:\n",
    "        print(x)"
   ]
  },
  {
   "cell_type": "code",
   "execution_count": null,
   "metadata": {},
   "outputs": [],
   "source": []
  }
 ],
 "metadata": {
  "kernelspec": {
   "display_name": "Python 3",
   "language": "python",
   "name": "python3"
  },
  "language_info": {
   "codemirror_mode": {
    "name": "ipython",
    "version": 3
   },
   "file_extension": ".py",
   "mimetype": "text/x-python",
   "name": "python",
   "nbconvert_exporter": "python",
   "pygments_lexer": "ipython3",
   "version": "3.5.6"
  }
 },
 "nbformat": 4,
 "nbformat_minor": 2
}
