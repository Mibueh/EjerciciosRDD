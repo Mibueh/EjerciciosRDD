{
 "cells": [
  {
   "cell_type": "code",
   "execution_count": 2,
   "metadata": {},
   "outputs": [],
   "source": [
    "from pyspark.sql import Row"
   ]
  },
  {
   "cell_type": "code",
   "execution_count": 3,
   "metadata": {},
   "outputs": [],
   "source": [
    "medallistas = sc.textFile('medallistas.txt').map(lambda x: x.split(',')).map(lambda x: Row(nombre=x[0],medallas=x[1],edad=int(x[2]))).collect()"
   ]
  },
  {
   "cell_type": "code",
   "execution_count": 5,
   "metadata": {},
   "outputs": [],
   "source": [
    "df = sqlContext.createDataFrame(medallistas)\n",
    "sqlContext.registerDataFrameAsTable(df,'medallistas')\n",
    "df.registerTempTable('medallistas')"
   ]
  },
  {
   "cell_type": "code",
   "execution_count": 11,
   "metadata": {},
   "outputs": [
    {
     "name": "stdout",
     "output_type": "stream",
     "text": [
      "+--------+----+\n",
      "|Medallas|Edad|\n",
      "+--------+----+\n",
      "|       1|  29|\n",
      "|       2|  22|\n",
      "|       1|  11|\n",
      "|       1|  78|\n",
      "|       1|  18|\n",
      "|       1|  69|\n",
      "|       1|  30|\n",
      "|       1|  47|\n",
      "|       1|  24|\n",
      "+--------+----+\n",
      "\n"
     ]
    }
   ],
   "source": [
    "conteo=sqlContext.sql(\"Select count(medallas) as Medallas,Edad from medallistas group by edad\")\n",
    "conteo.show()"
   ]
  },
  {
   "cell_type": "code",
   "execution_count": null,
   "metadata": {},
   "outputs": [],
   "source": []
  }
 ],
 "metadata": {
  "kernelspec": {
   "display_name": "Python 3",
   "language": "python",
   "name": "python3"
  },
  "language_info": {
   "codemirror_mode": {
    "name": "ipython",
    "version": 3
   },
   "file_extension": ".py",
   "mimetype": "text/x-python",
   "name": "python",
   "nbconvert_exporter": "python",
   "pygments_lexer": "ipython3",
   "version": "3.5.6"
  }
 },
 "nbformat": 4,
 "nbformat_minor": 2
}
