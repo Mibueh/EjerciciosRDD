{
 "cells": [
  {
   "cell_type": "code",
   "execution_count": 5,
   "metadata": {},
   "outputs": [],
   "source": [
    "temperatura = sc.parallelize([(2000,10),(2001,12),(2002,-15),(2003,20),(2004,-8),(2005,18),(2006,-5),(2007,-4),(2008,22)])\n",
    "farenheit = temperatura.mapValues(lambda x: x *(9 / 5) + 32).collect()"
   ]
  },
  {
   "cell_type": "code",
   "execution_count": 6,
   "metadata": {},
   "outputs": [
    {
     "name": "stdout",
     "output_type": "stream",
     "text": [
      "[(2000, 50.0), (2001, 53.6), (2002, 5.0), (2003, 68.0), (2004, 17.6), (2005, 64.4), (2006, 23.0), (2007, 24.8), (2008, 71.6)]\n"
     ]
    }
   ],
   "source": [
    "print(farenheit)"
   ]
  },
  {
   "cell_type": "code",
   "execution_count": null,
   "metadata": {},
   "outputs": [],
   "source": []
  }
 ],
 "metadata": {
  "kernelspec": {
   "display_name": "Python 3",
   "language": "python",
   "name": "python3"
  },
  "language_info": {
   "codemirror_mode": {
    "name": "ipython",
    "version": 3
   },
   "file_extension": ".py",
   "mimetype": "text/x-python",
   "name": "python",
   "nbconvert_exporter": "python",
   "pygments_lexer": "ipython3",
   "version": "3.5.6"
  }
 },
 "nbformat": 4,
 "nbformat_minor": 2
}
