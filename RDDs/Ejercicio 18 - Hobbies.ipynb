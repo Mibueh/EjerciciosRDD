{
 "cells": [
  {
   "cell_type": "code",
   "execution_count": 4,
   "metadata": {},
   "outputs": [],
   "source": [
    "usuarios=sc.parallelize([(0,'Manuel'),(1,'Alfonso'),(2,'Jesus'),(3,'Emilio')])\n",
    "aficiones=sc.parallelize([(0,'Vaper'),(2,'Vaper'),(3,'Vaper'),(0,'Juegos'),(1,'Juegos'),(2,'Juegos'),(1,'Colacao'),(2,'Colacao'),(3,'Colacao')])\n",
    "\n",
    "prueba = usuarios.fullOuterJoin(aficiones).collect()"
   ]
  },
  {
   "cell_type": "code",
   "execution_count": 5,
   "metadata": {},
   "outputs": [
    {
     "name": "stdout",
     "output_type": "stream",
     "text": [
      "[(0, ('Manuel', 'Vaper')), (0, ('Manuel', 'Juegos')), (2, ('Jesus', 'Vaper')), (2, ('Jesus', 'Juegos')), (2, ('Jesus', 'Colacao')), (1, ('Alfonso', 'Juegos')), (1, ('Alfonso', 'Colacao')), (3, ('Emilio', 'Vaper')), (3, ('Emilio', 'Colacao'))]\n"
     ]
    }
   ],
   "source": [
    "print(prueba)"
   ]
  },
  {
   "cell_type": "code",
   "execution_count": null,
   "metadata": {},
   "outputs": [],
   "source": []
  }
 ],
 "metadata": {
  "kernelspec": {
   "display_name": "Python 3",
   "language": "python",
   "name": "python3"
  },
  "language_info": {
   "codemirror_mode": {
    "name": "ipython",
    "version": 3
   },
   "file_extension": ".py",
   "mimetype": "text/x-python",
   "name": "python",
   "nbconvert_exporter": "python",
   "pygments_lexer": "ipython3",
   "version": "3.5.6"
  }
 },
 "nbformat": 4,
 "nbformat_minor": 2
}
