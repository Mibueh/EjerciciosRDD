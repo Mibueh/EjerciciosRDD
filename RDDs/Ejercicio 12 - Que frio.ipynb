{
 "cells": [
  {
   "cell_type": "code",
   "execution_count": 2,
   "metadata": {},
   "outputs": [],
   "source": [
    "temperatura = sc.parallelize([(2000,-10),(2001,12),(2002,-15),(2003,-20),(2004,-8),(2005,18),(2006,-5),(2007,-4),(2008,22)])"
   ]
  },
  {
   "cell_type": "code",
   "execution_count": 3,
   "metadata": {},
   "outputs": [
    {
     "name": "stdout",
     "output_type": "stream",
     "text": [
      "[(2000, -10), (2002, -15), (2003, -20), (2004, -8), (2006, -5), (2007, -4)]\n"
     ]
    }
   ],
   "source": [
    "frio = temperatura.filter(lambda x: x[1] < 0).collect()\n",
    "print(frio)"
   ]
  },
  {
   "cell_type": "code",
   "execution_count": 10,
   "metadata": {},
   "outputs": [
    {
     "name": "stdout",
     "output_type": "stream",
     "text": [
      "[(2008, 22), (2007, -4), (2006, -5)]\n"
     ]
    }
   ],
   "source": [
    "alta = temperatura.top(3, key=lambda x: x[1] < 0 )\n",
    "print(alta)"
   ]
  },
  {
   "cell_type": "code",
   "execution_count": 11,
   "metadata": {},
   "outputs": [
    {
     "name": "stdout",
     "output_type": "stream",
     "text": [
      "[(2000, -10), (2001, 12), (2002, -15)]\n"
     ]
    }
   ],
   "source": [
    "baja = temperatura.takeOrdered(3, key=lambda x: x[1])\n",
    "print(baja)"
   ]
  },
  {
   "cell_type": "code",
   "execution_count": null,
   "metadata": {},
   "outputs": [],
   "source": []
  }
 ],
 "metadata": {
  "kernelspec": {
   "display_name": "Python 3",
   "language": "python",
   "name": "python3"
  }
 },
 "nbformat": 4,
 "nbformat_minor": 2
}
